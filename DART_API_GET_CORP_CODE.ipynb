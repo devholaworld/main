{
  "nbformat": 4,
  "nbformat_minor": 0,
  "metadata": {
    "colab": {
      "provenance": [],
      "authorship_tag": "ABX9TyPVKpb1pCZGAzysxmf02i9r",
      "include_colab_link": true
    },
    "kernelspec": {
      "name": "python3",
      "display_name": "Python 3"
    },
    "language_info": {
      "name": "python"
    }
  },
  "cells": [
    {
      "cell_type": "markdown",
      "metadata": {
        "id": "view-in-github",
        "colab_type": "text"
      },
      "source": [
        "<a href=\"https://colab.research.google.com/github/devholaworld/main/blob/main/DART_API_GET_CORP_CODE.ipynb\" target=\"_parent\"><img src=\"https://colab.research.google.com/assets/colab-badge.svg\" alt=\"Open In Colab\"/></a>"
      ]
    },
    {
      "cell_type": "code",
      "source": [
        "from lxml import etree\n",
        "\n",
        "with open('C:\\\\Users\\\\User\\\\PycharmProjects\\\\pythonProject\\\\CORPCODE.xml', 'r', encoding='utf-8') as file:\n",
        "    tree = etree.parse(file)\n",
        "\n",
        "root = tree.getroot()\n",
        "\n",
        "for lists in root.findall('list'):\n",
        "    corp_code = lists.find('corp_code').text\n",
        "    corp_name = lists.find('corp_name').text\n",
        "    print(f\"{corp_code}, {corp_name}\")\n",
        "\n"
      ],
      "metadata": {
        "id": "z9VeqgXaqzhA"
      },
      "execution_count": null,
      "outputs": []
    },
    {
      "cell_type": "code",
      "source": [],
      "metadata": {
        "id": "OB7zYLXXq2LL"
      },
      "execution_count": null,
      "outputs": []
    },
    {
      "cell_type": "markdown",
      "source": [],
      "metadata": {
        "id": "TcgzdqCPq1hf"
      }
    }
  ]
}